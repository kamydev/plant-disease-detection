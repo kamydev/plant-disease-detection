{
 "cells": [
  {
   "cell_type": "markdown",
   "id": "a9be4aea",
   "metadata": {},
   "source": [
    "#  Compute Image Mean & Std (for Normalization)"
   ]
  },
  {
   "cell_type": "code",
   "execution_count": 2,
   "id": "55758750",
   "metadata": {},
   "outputs": [
    {
     "name": "stdout",
     "output_type": "stream",
     "text": [
      "Computed mean: tensor([0.4591, 0.4753, 0.4116])\n",
      "Computed std:  tensor([0.1812, 0.1573, 0.1957])\n"
     ]
    }
   ],
   "source": [
    "from torchvision import transforms, datasets\n",
    "from torch.utils.data import DataLoader\n",
    "import torch\n",
    "import numpy as np\n",
    "\n",
    "# Define minimal transform for loading\n",
    "transform = transforms.Compose([\n",
    "    transforms.Resize((224, 224)),\n",
    "    transforms.ToTensor(),  # Important: This turns images to range [0, 1]\n",
    "])\n",
    "\n",
    "# Load full dataset\n",
    "data_dir = \"../data/PlantVillage\"\n",
    "dataset = datasets.ImageFolder(root=data_dir, transform=transform)\n",
    "\n",
    "loader = DataLoader(dataset, batch_size=64, shuffle=False, num_workers=2)\n",
    "\n",
    "mean = torch.zeros(3)\n",
    "std = torch.zeros(3)\n",
    "total_images = 0\n",
    "\n",
    "for images, _ in loader:\n",
    "    total_images += images.size(0)\n",
    "    mean += images.mean(dim=[0, 2, 3]) * images.size(0)  # mean over C,H,W per image\n",
    "    std += images.std(dim=[0, 2, 3]) * images.size(0)    # std over C,H,W per image\n",
    "\n",
    "mean /= total_images\n",
    "std /= total_images\n",
    "\n",
    "print(f\"Computed mean: {mean}\")\n",
    "print(f\"Computed std:  {std}\")\n"
   ]
  }
 ],
 "metadata": {
  "kernelspec": {
   "display_name": "Python 3",
   "language": "python",
   "name": "python3"
  },
  "language_info": {
   "codemirror_mode": {
    "name": "ipython",
    "version": 3
   },
   "file_extension": ".py",
   "mimetype": "text/x-python",
   "name": "python",
   "nbconvert_exporter": "python",
   "pygments_lexer": "ipython3",
   "version": "3.11.3"
  }
 },
 "nbformat": 4,
 "nbformat_minor": 5
}
