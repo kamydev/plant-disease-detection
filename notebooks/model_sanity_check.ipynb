{
 "cells": [
  {
   "cell_type": "markdown",
   "id": "ec53bf8e",
   "metadata": {},
   "source": [
    "# Sanity Check Pass Dummy Data"
   ]
  },
  {
   "cell_type": "code",
   "execution_count": 5,
   "id": "8b5044ea",
   "metadata": {},
   "outputs": [],
   "source": [
    "import sys\n",
    "import os\n",
    "\n",
    "# Add the root of your project to the path\n",
    "sys.path.append(os.path.abspath(\"..\"))\n",
    "#"
   ]
  },
  {
   "cell_type": "code",
   "execution_count": 6,
   "id": "6697374c",
   "metadata": {},
   "outputs": [
    {
     "name": "stdout",
     "output_type": "stream",
     "text": [
      "Output shape: torch.Size([4, 14])\n"
     ]
    }
   ],
   "source": [
    "import torch\n",
    "from src.model import PlantDiseaseCNN\n",
    "\n",
    "model = PlantDiseaseCNN(num_classes=14)\n",
    "x = torch.randn(4, 3, 224, 224)  # batch of 4 dummy images\n",
    "\n",
    "output = model(x)\n",
    "print(\"Output shape:\", output.shape)\n"
   ]
  }
 ],
 "metadata": {
  "kernelspec": {
   "display_name": "Python 3",
   "language": "python",
   "name": "python3"
  },
  "language_info": {
   "codemirror_mode": {
    "name": "ipython",
    "version": 3
   },
   "file_extension": ".py",
   "mimetype": "text/x-python",
   "name": "python",
   "nbconvert_exporter": "python",
   "pygments_lexer": "ipython3",
   "version": "3.11.3"
  }
 },
 "nbformat": 4,
 "nbformat_minor": 5
}
